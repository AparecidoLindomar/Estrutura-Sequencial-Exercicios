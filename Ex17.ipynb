{
 "cells": [
  {
   "cell_type": "markdown",
   "metadata": {},
   "source": [
    "## Exercicio 17 => \n"
   ]
  },
  {
   "cell_type": "markdown",
   "metadata": {},
   "source": [
    "- Faça um Programa para uma loja de tintas. O programa deverá pedir o tamanho em metros quadrados da área a ser pintada. Considere que a cobertura da tinta é de 1 litro para cada 6 metros quadrados e que a tinta é vendida em latas de 18 litros, que custam R$ 80,00 ou em galões de 3,6 litros, que custam R$ 25,00.\n",
    "- Informe ao usuário as quantidades de tinta a serem compradas e os respectivos preços em 3 situações:\n",
    "- Comprar apenas latas de 18 litros;\n",
    "- comprar apenas galões de 3,6 litros; \n",
    "- misturar latas e galões, de forma que o desperdício de tinta seja menor. Acrescente 10% de folga e sempre arredonde os valores para cima, isto é, considere latas cheias."
   ]
  },
  {
   "cell_type": "code",
   "execution_count": 82,
   "metadata": {},
   "outputs": [],
   "source": [
    "import math"
   ]
  },
  {
   "cell_type": "code",
   "execution_count": 83,
   "metadata": {},
   "outputs": [],
   "source": [
    "# area_pintada = float(input(\"Informe a área a ser pintada em m²?\"))\n",
    "area_pintada = 6\n",
    "preco_lata = 25\n",
    "vol_lata_litro = 3.6\n",
    "preco_galao = 80\n",
    "vol_galao_litro = 18 "
   ]
  },
  {
   "cell_type": "code",
   "execution_count": 84,
   "metadata": {},
   "outputs": [
    {
     "name": "stdout",
     "output_type": "stream",
     "text": [
      "1.10\n"
     ]
    }
   ],
   "source": [
    "vol_necessario = (area_pintada / 6) * 1.1\n",
    "print(f'{vol_necessario:.2f}')"
   ]
  },
  {
   "cell_type": "code",
   "execution_count": 85,
   "metadata": {},
   "outputs": [
    {
     "name": "stdout",
     "output_type": "stream",
     "text": [
      "1 latas\n",
      "0.31 latas\n"
     ]
    }
   ],
   "source": [
    "qtd_lata = math.ceil(vol_necessario / vol_lata_litro)\n",
    "qtd_lata2 =(vol_necessario / vol_lata_litro)\n",
    "\n",
    "print(f'{qtd_lata} latas')\n",
    "print(f'{qtd_lata2:.2f} latas')"
   ]
  },
  {
   "cell_type": "code",
   "execution_count": 86,
   "metadata": {},
   "outputs": [
    {
     "name": "stdout",
     "output_type": "stream",
     "text": [
      "1 galão\n",
      "0.06 galão\n"
     ]
    }
   ],
   "source": [
    "qtd_galao = math.ceil(vol_necessario / vol_galao_litro)\n",
    "qtd_galao2 = (vol_necessario / vol_galao_litro)\n",
    "\n",
    "print(f'{qtd_galao} galão')\n",
    "print(f'{qtd_galao2:.2f} galão')\n"
   ]
  },
  {
   "cell_type": "code",
   "execution_count": 87,
   "metadata": {},
   "outputs": [
    {
     "name": "stdout",
     "output_type": "stream",
     "text": [
      "R$ 80.00\n"
     ]
    }
   ],
   "source": [
    "total_galao = qtd_galao * preco_galao\n",
    "\n",
    "print(f'R$ {total_galao:.2f}')\n"
   ]
  },
  {
   "cell_type": "code",
   "execution_count": 88,
   "metadata": {},
   "outputs": [
    {
     "name": "stdout",
     "output_type": "stream",
     "text": [
      "R$ 25.00\n"
     ]
    }
   ],
   "source": [
    "total_lata = qtd_lata * preco_lata\n",
    "\n",
    "print(f'R$ {total_lata:.2f}')\n"
   ]
  },
  {
   "cell_type": "code",
   "execution_count": 89,
   "metadata": {},
   "outputs": [
    {
     "name": "stdout",
     "output_type": "stream",
     "text": [
      "2 litros\n",
      "1.10 litros\n"
     ]
    }
   ],
   "source": [
    "desperdicio_lata = math.ceil(vol_necessario % vol_lata_litro)\n",
    "desperdicio_lata_2 = (vol_necessario % vol_lata_litro)\n",
    "\n",
    "print(f'{desperdicio_lata} litros')\n",
    "print(f'{desperdicio_lata_2:.2f} litros')\n"
   ]
  },
  {
   "cell_type": "code",
   "execution_count": 90,
   "metadata": {},
   "outputs": [
    {
     "name": "stdout",
     "output_type": "stream",
     "text": [
      "2 litros\n",
      "1.10 litros\n"
     ]
    }
   ],
   "source": [
    "desperdicio_galao = math.ceil(vol_necessario % vol_galao_litro)\n",
    "desperdicio_galao_2 = (vol_necessario % vol_galao_litro)\n",
    "\n",
    "print(f'{desperdicio_galao} litros')\n",
    "print(f'{desperdicio_galao_2:.2f} litros')\n"
   ]
  },
  {
   "cell_type": "code",
   "execution_count": 91,
   "metadata": {},
   "outputs": [
    {
     "name": "stdout",
     "output_type": "stream",
     "text": [
      "R$ 80.00 + R$ 75 = R$ 81595.00\n"
     ]
    }
   ],
   "source": [
    "if desperdicio_galao_2 <= 3.6: # 1 Lata\n",
    "    total_desperdicio_galão = total_galao + preco_lata\n",
    "    \n",
    "elif desperdicio_galao_2 <= 7.2: # 2 Lata\n",
    "    total_desperdicio_galao = total_galao + (preco_lata * desperdicio_lata)\n",
    "    total_desperdicio_lata = preco_lata * desperdicio_lata\n",
    "\n",
    "elif desperdicio_galao_2 <= 10.8: # 3 Lata\n",
    "    total_desperdicio_galao = total_galao + (preco_lata * desperdicio_lata)\n",
    "    total_desperdicio_lata = preco_lata * desperdicio_lata\n",
    "\n",
    "elif desperdicio_galao_2 <= 14.2: # 4 Lata\n",
    "    total_desperdicio_galao = total_galao + (preco_lata * desperdicio_lata)\n",
    "    total_desperdicio_lata = preco_lata * desperdicio_lata\n",
    "\n",
    "else: \n",
    "    total_desperdicio_galao = (total_galao + preco_galao) \n",
    "    total_desperdicio_lata = preco_lata * desperdicio_lata\n",
    "\n",
    "print(f'R$ {total_galao:.2f} + R$ {total_desperdicio_lata} = R$ {total_desperdicio_galao:.2f}')\n"
   ]
  },
  {
   "cell_type": "code",
   "execution_count": 92,
   "metadata": {},
   "outputs": [
    {
     "name": "stdout",
     "output_type": "stream",
     "text": [
      "Se preferir apenas latas iremos utilizar 1 e o valor R$25.00, porém terá o disperdicio de 1.10 de litros de tinta\n"
     ]
    }
   ],
   "source": [
    "print(f'Se preferir apenas latas iremos utilizar {qtd_lata} e o valor R${total_lata:.2f}, porém terá o disperdicio de {desperdicio_lata_2:.2f} de litros de tinta')"
   ]
  },
  {
   "cell_type": "code",
   "execution_count": 93,
   "metadata": {},
   "outputs": [
    {
     "name": "stdout",
     "output_type": "stream",
     "text": [
      "Se preferir apenas latas iremos utilizar 1 e o valor R$80.00, porém terá o disperdicio de 1.10 de litros de tinta\n"
     ]
    }
   ],
   "source": [
    "print(f'Se preferir apenas latas iremos utilizar {qtd_galao} e o valor R${total_galao:.2f}, porém terá o disperdicio de {desperdicio_galao_2:.2f} de litros de tinta')"
   ]
  },
  {
   "cell_type": "code",
   "execution_count": 96,
   "metadata": {},
   "outputs": [
    {
     "name": "stdout",
     "output_type": "stream",
     "text": [
      "Para evitar o desperdicio iremos utilizar 1 galões e 2 latas de tinta com o valor total de R$81595.00\n"
     ]
    }
   ],
   "source": [
    "if desperdicio_galao_2 <= 3.6:\n",
    "    print(f'Para evitar o desperdicio iremos utilizar {qtd_galao} galões e {desperdicio_lata} latas de tinta com o valor total de R${total_desperdicio_galao:.2f}')\n",
    "elif desperdicio_galao_2 <= 7.2:\n",
    "    print(f'Para evitar o desperdicio iremos utilizar {qtd_galao} galões e {desperdicio_lata} latas de tinta com o valor total de R${total_desperdicio_galao:.2f}')\n",
    "elif desperdicio_galao_2 <= 10.8:\n",
    "    print(f'Para evitar o desperdicio iremos utilizar {qtd_galao} galões e {desperdicio_lata} latas de tinta com o valor total de R${total_desperdicio_galao:.2f}')\n",
    "elif desperdicio_galao_2 <= 14.2:\n",
    "    print(f'Para evitar o desperdicio iremos utilizar {qtd_galao} galões e {desperdicio_lata} latas de tinta com o valor total de R${total_desperdicio_galao:.2f}')\n",
    "elif desperdicio_galao_2 <= 17.8:\n",
    "    print(f'Para evitar o desperdicio iremos utilizar {qtd_galao} galões e {desperdicio_lata} latas de tinta com o valor total de R${total_desperdicio_galao:.2f}')\n",
    "else: \n",
    "    print(f'Para evitar o desperdicio iremos utilizar {qtd_galao} galões e com o valor de R${total_desperdicio_galão:.2f}')\n"
   ]
  }
 ],
 "metadata": {
  "kernelspec": {
   "display_name": "Python 3.10.5 64-bit",
   "language": "python",
   "name": "python3"
  },
  "language_info": {
   "codemirror_mode": {
    "name": "ipython",
    "version": 3
   },
   "file_extension": ".py",
   "mimetype": "text/x-python",
   "name": "python",
   "nbconvert_exporter": "python",
   "pygments_lexer": "ipython3",
   "version": "3.10.5"
  },
  "orig_nbformat": 4,
  "vscode": {
   "interpreter": {
    "hash": "3a3320ebe5c4dee11e357622a2e7d245adbaff6448583a31863aa31389e77cdd"
   }
  }
 },
 "nbformat": 4,
 "nbformat_minor": 2
}
